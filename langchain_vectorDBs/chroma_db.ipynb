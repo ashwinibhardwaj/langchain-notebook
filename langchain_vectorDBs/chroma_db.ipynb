{
 "cells": [
  {
   "cell_type": "markdown",
   "id": "6d0b2596",
   "metadata": {},
   "source": [
    "Chroma Db Implementation"
   ]
  },
  {
   "cell_type": "code",
   "execution_count": 1,
   "id": "59128c07",
   "metadata": {},
   "outputs": [
    {
     "name": "stderr",
     "output_type": "stream",
     "text": [
      "c:\\Users\\TCS\\Desktop\\Langchain Learn\\venv\\lib\\site-packages\\tqdm\\auto.py:21: TqdmWarning: IProgress not found. Please update jupyter and ipywidgets. See https://ipywidgets.readthedocs.io/en/stable/user_install.html\n",
      "  from .autonotebook import tqdm as notebook_tqdm\n"
     ]
    }
   ],
   "source": [
    "from langchain_huggingface import HuggingFaceEmbeddings\n",
    "from langchain.vectorstores import Chroma"
   ]
  },
  {
   "cell_type": "code",
   "execution_count": 2,
   "id": "b80a94e8",
   "metadata": {},
   "outputs": [],
   "source": [
    "from langchain.schema import Document\n",
    "\n",
    "documents = [\n",
    "    Document(\n",
    "        page_content=\"Movie: 3 Idiots\\nYear: 2009\\nGenre: Comedy, Drama\\nDirector: Rajkumar Hirani\\nCast: Aamir Khan, R. Madhavan, Sharman Joshi, Kareena Kapoor\\nPlot: Three engineering students navigate pressure, friendship, and the education system in India.\",\n",
    "        metadata={\"movie_id\": 1, \"title\": \"3 Idiots\", \"year\": 2009, \"genre\": \"Comedy, Drama\"}\n",
    "    ),\n",
    "    Document(\n",
    "        page_content=\"Movie: Dangal\\nYear: 2016\\nGenre: Sports, Drama\\nDirector: Nitesh Tiwari\\nCast: Aamir Khan, Fatima Sana Shaikh, Sanya Malhotra\\nPlot: A former wrestler trains his daughters to become world-class athletes against all odds.\",\n",
    "        metadata={\"movie_id\": 2, \"title\": \"Dangal\", \"year\": 2016, \"genre\": \"Sports, Drama\"}\n",
    "    ),\n",
    "    Document(\n",
    "        page_content=\"Movie: Zindagi Na Milegi Dobara\\nYear: 2011\\nGenre: Adventure, Drama\\nDirector: Zoya Akhtar\\nCast: Hrithik Roshan, Farhan Akhtar, Abhay Deol, Katrina Kaif\\nPlot: Three friends rediscover themselves during a road trip across Spain.\",\n",
    "        metadata={\"movie_id\": 3, \"title\": \"Zindagi Na Milegi Dobara\", \"year\": 2011, \"genre\": \"Adventure, Drama\"}\n",
    "    ),\n",
    "    Document(\n",
    "        page_content=\"Movie: Queen\\nYear: 2014\\nGenre: Comedy, Drama\\nDirector: Vikas Bahl\\nCast: Kangana Ranaut, Lisa Haydon, Rajkummar Rao\\nPlot: A young woman embarks on a solo honeymoon trip to Europe after her fiancé calls off their wedding.\",\n",
    "        metadata={\"movie_id\": 4, \"title\": \"Queen\", \"year\": 2014, \"genre\": \"Comedy, Drama\"}\n",
    "    ),\n",
    "    Document(\n",
    "        page_content=\"Movie: Bajrangi Bhaijaan\\nYear: 2015\\nGenre: Action, Drama\\nDirector: Kabir Khan\\nCast: Salman Khan, Harshaali Malhotra, Kareena Kapoor Khan, Nawazuddin Siddiqui\\nPlot: A kind-hearted man helps a mute Pakistani girl reunite with her family across the border.\",\n",
    "        metadata={\"movie_id\": 5, \"title\": \"Bajrangi Bhaijaan\", \"year\": 2015, \"genre\": \"Action, Drama\"}\n",
    "    ),\n",
    "    Document(\n",
    "        page_content=\"Movie: Gully Boy\\nYear: 2019\\nGenre: Musical, Drama\\nDirector: Zoya Akhtar\\nCast: Ranveer Singh, Alia Bhatt, Siddhant Chaturvedi\\nPlot: Inspired by Mumbai’s street rappers, a young man rises from the slums to become a rap sensation.\",\n",
    "        metadata={\"movie_id\": 6, \"title\": \"Gully Boy\", \"year\": 2019, \"genre\": \"Musical, Drama\"}\n",
    "    ),\n",
    "    Document(\n",
    "        page_content=\"Movie: Barfi!\\nYear: 2012\\nGenre: Romance, Comedy\\nDirector: Anurag Basu\\nCast: Ranbir Kapoor, Priyanka Chopra, Ileana D'Cruz\\nPlot: The story of a deaf-mute boy and his relationships with two women, exploring love beyond words.\",\n",
    "        metadata={\"movie_id\": 7, \"title\": \"Barfi!\", \"year\": 2012, \"genre\": \"Romance, Comedy\"}\n",
    "    ),\n",
    "    Document(\n",
    "        page_content=\"Movie: Chak De! India\\nYear: 2007\\nGenre: Sports, Drama\\nDirector: Shimit Amin\\nCast: Shah Rukh Khan, Vidya Malvade, Sagarika Ghatge\\nPlot: A disgraced hockey player redeems himself by coaching the Indian women's national hockey team.\",\n",
    "        metadata={\"movie_id\": 8, \"title\": \"Chak De! India\", \"year\": 2007, \"genre\": \"Sports, Drama\"}\n",
    "    ),\n",
    "    Document(\n",
    "        page_content=\"Movie: Lagaan\\nYear: 2001\\nGenre: Historical, Sports, Drama\\nDirector: Ashutosh Gowariker\\nCast: Aamir Khan, Gracy Singh, Paul Blackthorne\\nPlot: Villagers challenge British officers to a cricket match to avoid paying oppressive taxes.\",\n",
    "        metadata={\"movie_id\": 9, \"title\": \"Lagaan\", \"year\": 2001, \"genre\": \"Historical, Sports\"}\n",
    "    ),\n",
    "    Document(\n",
    "        page_content=\"Movie: Kabhi Khushi Kabhie Gham\\nYear: 2001\\nGenre: Family, Drama\\nDirector: Karan Johar\\nCast: Amitabh Bachchan, Shah Rukh Khan, Kajol, Hrithik Roshan, Kareena Kapoor\\nPlot: A wealthy family faces separation and reunion as love and values clash across generations.\",\n",
    "        metadata={\"movie_id\": 10, \"title\": \"Kabhi Khushi Kabhie Gham\", \"year\": 2001, \"genre\": \"Family, Drama\"}\n",
    "    )\n",
    "]\n"
   ]
  },
  {
   "cell_type": "code",
   "execution_count": 4,
   "id": "fbf9ccf9",
   "metadata": {},
   "outputs": [],
   "source": [
    "embedding_model = HuggingFaceEmbeddings(model_name = \"sentence-transformers/all-MiniLM-L6-v2\")"
   ]
  },
  {
   "cell_type": "code",
   "execution_count": 5,
   "id": "f1a884e2",
   "metadata": {},
   "outputs": [
    {
     "name": "stderr",
     "output_type": "stream",
     "text": [
      "C:\\Users\\TCS\\AppData\\Local\\Temp\\ipykernel_6340\\1158935732.py:1: LangChainDeprecationWarning: The class `Chroma` was deprecated in LangChain 0.2.9 and will be removed in 1.0. An updated version of the class exists in the :class:`~langchain-chroma package and should be used instead. To use it run `pip install -U :class:`~langchain-chroma` and import as `from :class:`~langchain_chroma import Chroma``.\n",
      "  vector = Chroma(\n"
     ]
    }
   ],
   "source": [
    "vector = Chroma(\n",
    "    embedding_function=embedding_model,\n",
    "    persist_directory=\"./vectordb/chromadb\",\n",
    "    collection_name=\"sample_movies_data\"\n",
    ")"
   ]
  },
  {
   "cell_type": "code",
   "execution_count": null,
   "id": "78212196",
   "metadata": {},
   "outputs": [
    {
     "data": {
      "text/plain": [
       "['14d1d545-cf3f-4566-ae9f-7d12ba843a93',\n",
       " '0443d72f-5d12-4e1b-9722-7d74dfeaec18',\n",
       " '56d04300-e578-4e03-bdd9-d95b635cf7b7',\n",
       " 'f0eaa932-5cb2-4706-ab00-643116ba3af6',\n",
       " '558882ac-7bb5-489e-ad6f-285d55e027eb',\n",
       " 'e2ba574c-f254-4ff1-b758-d998b5a9c6c8',\n",
       " '03cba8e7-9880-466f-a43b-da0ba3b06d21',\n",
       " '46f6c4c0-5eb5-4f35-a325-290f8848ba0d',\n",
       " 'cde3c9ce-70fe-4750-a7b4-7f1899a9b741',\n",
       " 'df017e5d-dc8a-424b-95d6-f785916b292c']"
      ]
     },
     "execution_count": 6,
     "metadata": {},
     "output_type": "execute_result"
    }
   ],
   "source": [
    "# adding the documents\n",
    "vector.add_documents(documents=documents)"
   ]
  },
  {
   "cell_type": "code",
   "execution_count": 9,
   "id": "0b686731",
   "metadata": {},
   "outputs": [
    {
     "data": {
      "text/plain": [
       "{'ids': ['14d1d545-cf3f-4566-ae9f-7d12ba843a93',\n",
       "  '0443d72f-5d12-4e1b-9722-7d74dfeaec18',\n",
       "  '56d04300-e578-4e03-bdd9-d95b635cf7b7',\n",
       "  'f0eaa932-5cb2-4706-ab00-643116ba3af6',\n",
       "  '558882ac-7bb5-489e-ad6f-285d55e027eb',\n",
       "  'e2ba574c-f254-4ff1-b758-d998b5a9c6c8',\n",
       "  '03cba8e7-9880-466f-a43b-da0ba3b06d21',\n",
       "  '46f6c4c0-5eb5-4f35-a325-290f8848ba0d',\n",
       "  'cde3c9ce-70fe-4750-a7b4-7f1899a9b741',\n",
       "  'df017e5d-dc8a-424b-95d6-f785916b292c'],\n",
       " 'embeddings': array([[-0.06687945, -0.05888879, -0.08356214, ...,  0.08197989,\n",
       "         -0.01338002,  0.02209718],\n",
       "        [-0.05122707,  0.07890794, -0.0264101 , ..., -0.0401753 ,\n",
       "         -0.028954  ,  0.0379419 ],\n",
       "        [-0.08385997, -0.00468372, -0.03079289, ...,  0.0224616 ,\n",
       "         -0.05109926, -0.00806777],\n",
       "        ...,\n",
       "        [-0.08109142,  0.01919882, -0.08687685, ..., -0.044046  ,\n",
       "         -0.00667177,  0.02507431],\n",
       "        [-0.10813625,  0.04452148, -0.13642645, ...,  0.00557755,\n",
       "         -0.07542473,  0.0033522 ],\n",
       "        [-0.13962926, -0.03324671, -0.02430755, ..., -0.00319048,\n",
       "         -0.03968187,  0.03408791]], shape=(10, 384)),\n",
       " 'documents': ['Movie: 3 Idiots\\nYear: 2009\\nGenre: Comedy, Drama\\nDirector: Rajkumar Hirani\\nCast: Aamir Khan, R. Madhavan, Sharman Joshi, Kareena Kapoor\\nPlot: Three engineering students navigate pressure, friendship, and the education system in India.',\n",
       "  'Movie: Dangal\\nYear: 2016\\nGenre: Sports, Drama\\nDirector: Nitesh Tiwari\\nCast: Aamir Khan, Fatima Sana Shaikh, Sanya Malhotra\\nPlot: A former wrestler trains his daughters to become world-class athletes against all odds.',\n",
       "  'Movie: Zindagi Na Milegi Dobara\\nYear: 2011\\nGenre: Adventure, Drama\\nDirector: Zoya Akhtar\\nCast: Hrithik Roshan, Farhan Akhtar, Abhay Deol, Katrina Kaif\\nPlot: Three friends rediscover themselves during a road trip across Spain.',\n",
       "  'Movie: Queen\\nYear: 2014\\nGenre: Comedy, Drama\\nDirector: Vikas Bahl\\nCast: Kangana Ranaut, Lisa Haydon, Rajkummar Rao\\nPlot: A young woman embarks on a solo honeymoon trip to Europe after her fiancé calls off their wedding.',\n",
       "  'Movie: Bajrangi Bhaijaan\\nYear: 2015\\nGenre: Action, Drama\\nDirector: Kabir Khan\\nCast: Salman Khan, Harshaali Malhotra, Kareena Kapoor Khan, Nawazuddin Siddiqui\\nPlot: A kind-hearted man helps a mute Pakistani girl reunite with her family across the border.',\n",
       "  'Movie: Gully Boy\\nYear: 2019\\nGenre: Musical, Drama\\nDirector: Zoya Akhtar\\nCast: Ranveer Singh, Alia Bhatt, Siddhant Chaturvedi\\nPlot: Inspired by Mumbai’s street rappers, a young man rises from the slums to become a rap sensation.',\n",
       "  \"Movie: Barfi!\\nYear: 2012\\nGenre: Romance, Comedy\\nDirector: Anurag Basu\\nCast: Ranbir Kapoor, Priyanka Chopra, Ileana D'Cruz\\nPlot: The story of a deaf-mute boy and his relationships with two women, exploring love beyond words.\",\n",
       "  \"Movie: Chak De! India\\nYear: 2007\\nGenre: Sports, Drama\\nDirector: Shimit Amin\\nCast: Shah Rukh Khan, Vidya Malvade, Sagarika Ghatge\\nPlot: A disgraced hockey player redeems himself by coaching the Indian women's national hockey team.\",\n",
       "  'Movie: Lagaan\\nYear: 2001\\nGenre: Historical, Sports, Drama\\nDirector: Ashutosh Gowariker\\nCast: Aamir Khan, Gracy Singh, Paul Blackthorne\\nPlot: Villagers challenge British officers to a cricket match to avoid paying oppressive taxes.',\n",
       "  'Movie: Kabhi Khushi Kabhie Gham\\nYear: 2001\\nGenre: Family, Drama\\nDirector: Karan Johar\\nCast: Amitabh Bachchan, Shah Rukh Khan, Kajol, Hrithik Roshan, Kareena Kapoor\\nPlot: A wealthy family faces separation and reunion as love and values clash across generations.'],\n",
       " 'uris': None,\n",
       " 'included': ['embeddings', 'documents', 'metadatas'],\n",
       " 'data': None,\n",
       " 'metadatas': [{'genre': 'Comedy, Drama',\n",
       "   'title': '3 Idiots',\n",
       "   'year': 2009,\n",
       "   'movie_id': 1},\n",
       "  {'movie_id': 2, 'genre': 'Sports, Drama', 'title': 'Dangal', 'year': 2016},\n",
       "  {'movie_id': 3,\n",
       "   'year': 2011,\n",
       "   'genre': 'Adventure, Drama',\n",
       "   'title': 'Zindagi Na Milegi Dobara'},\n",
       "  {'year': 2014, 'genre': 'Comedy, Drama', 'title': 'Queen', 'movie_id': 4},\n",
       "  {'movie_id': 5,\n",
       "   'year': 2015,\n",
       "   'title': 'Bajrangi Bhaijaan',\n",
       "   'genre': 'Action, Drama'},\n",
       "  {'movie_id': 6,\n",
       "   'title': 'Gully Boy',\n",
       "   'year': 2019,\n",
       "   'genre': 'Musical, Drama'},\n",
       "  {'genre': 'Romance, Comedy', 'year': 2012, 'title': 'Barfi!', 'movie_id': 7},\n",
       "  {'genre': 'Sports, Drama',\n",
       "   'year': 2007,\n",
       "   'title': 'Chak De! India',\n",
       "   'movie_id': 8},\n",
       "  {'genre': 'Historical, Sports',\n",
       "   'title': 'Lagaan',\n",
       "   'year': 2001,\n",
       "   'movie_id': 9},\n",
       "  {'genre': 'Family, Drama',\n",
       "   'year': 2001,\n",
       "   'movie_id': 10,\n",
       "   'title': 'Kabhi Khushi Kabhie Gham'}]}"
      ]
     },
     "execution_count": 9,
     "metadata": {},
     "output_type": "execute_result"
    }
   ],
   "source": [
    "# view documents\n",
    "vector.get(include=['embeddings','documents','metadatas'])"
   ]
  },
  {
   "cell_type": "code",
   "execution_count": null,
   "id": "57ed70cb",
   "metadata": {},
   "outputs": [
    {
     "data": {
      "text/plain": [
       "[Document(metadata={'title': 'Lagaan', 'year': 2001, 'movie_id': 9, 'genre': 'Historical, Sports'}, page_content='Movie: Lagaan\\nYear: 2001\\nGenre: Historical, Sports, Drama\\nDirector: Ashutosh Gowariker\\nCast: Aamir Khan, Gracy Singh, Paul Blackthorne\\nPlot: Villagers challenge British officers to a cricket match to avoid paying oppressive taxes.'),\n",
       " Document(metadata={'year': 2007, 'movie_id': 8, 'title': 'Chak De! India', 'genre': 'Sports, Drama'}, page_content=\"Movie: Chak De! India\\nYear: 2007\\nGenre: Sports, Drama\\nDirector: Shimit Amin\\nCast: Shah Rukh Khan, Vidya Malvade, Sagarika Ghatge\\nPlot: A disgraced hockey player redeems himself by coaching the Indian women's national hockey team.\")]"
      ]
     },
     "execution_count": 17,
     "metadata": {},
     "output_type": "execute_result"
    }
   ],
   "source": [
    "# search documents\n",
    "vector.similarity_search(\n",
    "    query=\"which movie tells about the rule of britishers over india\",\n",
    "    k=2\n",
    ")"
   ]
  },
  {
   "cell_type": "code",
   "execution_count": 18,
   "id": "65eec48f",
   "metadata": {},
   "outputs": [
    {
     "data": {
      "text/plain": [
       "[(Document(metadata={'title': 'Bajrangi Bhaijaan', 'year': 2015, 'movie_id': 5, 'genre': 'Action, Drama'}, page_content='Movie: Bajrangi Bhaijaan\\nYear: 2015\\nGenre: Action, Drama\\nDirector: Kabir Khan\\nCast: Salman Khan, Harshaali Malhotra, Kareena Kapoor Khan, Nawazuddin Siddiqui\\nPlot: A kind-hearted man helps a mute Pakistani girl reunite with her family across the border.'),\n",
       "  0.5713341236114502),\n",
       " (Document(metadata={'year': 2016, 'genre': 'Sports, Drama', 'movie_id': 2, 'title': 'Dangal'}, page_content='Movie: Dangal\\nYear: 2016\\nGenre: Sports, Drama\\nDirector: Nitesh Tiwari\\nCast: Aamir Khan, Fatima Sana Shaikh, Sanya Malhotra\\nPlot: A former wrestler trains his daughters to become world-class athletes against all odds.'),\n",
       "  1.0208182334899902)]"
      ]
     },
     "execution_count": 18,
     "metadata": {},
     "output_type": "execute_result"
    }
   ],
   "source": [
    "# search documents with similarity score\n",
    "vector.similarity_search_with_score(\n",
    "    query=\"which movie talks about a pakistani girl.\",\n",
    "    k = 2\n",
    ")"
   ]
  },
  {
   "cell_type": "code",
   "execution_count": 21,
   "id": "3bc4f1e8",
   "metadata": {},
   "outputs": [
    {
     "data": {
      "text/plain": [
       "[(Document(metadata={'genre': 'Sports, Drama', 'year': 2016, 'movie_id': 2, 'title': 'Dangal'}, page_content='Movie: Dangal\\nYear: 2016\\nGenre: Sports, Drama\\nDirector: Nitesh Tiwari\\nCast: Aamir Khan, Fatima Sana Shaikh, Sanya Malhotra\\nPlot: A former wrestler trains his daughters to become world-class athletes against all odds.'),\n",
       "  1.8436055183410645)]"
      ]
     },
     "execution_count": 21,
     "metadata": {},
     "output_type": "execute_result"
    }
   ],
   "source": [
    "# searching with filtering \n",
    "\n",
    "vector.similarity_search_with_score(\n",
    "    query=\"\",\n",
    "    filter={\"year\":2016}\n",
    ")"
   ]
  },
  {
   "cell_type": "code",
   "execution_count": 28,
   "id": "840049b7",
   "metadata": {},
   "outputs": [],
   "source": [
    "# updating a document's data\n",
    "\n",
    "doc_3_idiots = Document(\n",
    "    page_content=(\n",
    "        \"Title: 3 Idiots\\n\"\n",
    "        \"Year: 2009\\n\"\n",
    "        \"Genre: Comedy, Drama, Education\\n\"\n",
    "        \"Director: Rajkumar Hirani\\n\"\n",
    "        \"Cast: Aamir Khan, R. Madhavan, Sharman Joshi, Kareena Kapoor, Boman Irani\\n\"\n",
    "        \"Language: Hindi\\n\"\n",
    "        \"Runtime: 171 minutes\\n\"\n",
    "        \"IMDb Rating: 8.4/10\\n\"\n",
    "        \"Plot Summary: The film follows the story of three engineering students — Rancho, Farhan, and Raju — \"\n",
    "        \"who challenge the rigid education system in India. Rancho’s unconventional approach to learning \"\n",
    "        \"inspires his friends to pursue their passions instead of societal expectations. Years later, \"\n",
    "        \"Farhan and Raju embark on a journey to find Rancho, uncovering life lessons about success, friendship, \"\n",
    "        \"and following one’s dreams.\\n\"\n",
    "        \"Themes: Friendship, Education Reform, Self-Discovery, Pressure of Competition.\\n\"\n",
    "        \"Tagline: 'Don’t run behind success; strive for excellence, and success will follow.'\"\n",
    "    ),\n",
    "    metadata={\n",
    "        \"movie_id\": 1,\n",
    "        \"title\": \"3 Idiots\",\n",
    "        \"year\": 2009,\n",
    "        \"director\": \"Rajkumar Hirani\",\n",
    "        \"language\": \"Hindi\",\n",
    "        \"country\": \"India\",\n",
    "        \"runtime_minutes\": 171,\n",
    "        \"rating\": 8.4,\n",
    "    }\n",
    ")\n",
    "\n",
    "\n",
    "vector.update_document(document_id=\"14d1d545-cf3f-4566-ae9f-7d12ba843a93\", document=doc_3_idiots)"
   ]
  },
  {
   "cell_type": "code",
   "execution_count": 29,
   "id": "c68f80f4",
   "metadata": {},
   "outputs": [
    {
     "data": {
      "text/plain": [
       "{'ids': ['14d1d545-cf3f-4566-ae9f-7d12ba843a93',\n",
       "  '0443d72f-5d12-4e1b-9722-7d74dfeaec18',\n",
       "  '56d04300-e578-4e03-bdd9-d95b635cf7b7',\n",
       "  'f0eaa932-5cb2-4706-ab00-643116ba3af6',\n",
       "  '558882ac-7bb5-489e-ad6f-285d55e027eb',\n",
       "  'e2ba574c-f254-4ff1-b758-d998b5a9c6c8',\n",
       "  '03cba8e7-9880-466f-a43b-da0ba3b06d21',\n",
       "  '46f6c4c0-5eb5-4f35-a325-290f8848ba0d',\n",
       "  'cde3c9ce-70fe-4750-a7b4-7f1899a9b741',\n",
       "  'df017e5d-dc8a-424b-95d6-f785916b292c'],\n",
       " 'embeddings': None,\n",
       " 'documents': [\"Title: 3 Idiots\\nYear: 2009\\nGenre: Comedy, Drama, Education\\nDirector: Rajkumar Hirani\\nCast: Aamir Khan, R. Madhavan, Sharman Joshi, Kareena Kapoor, Boman Irani\\nLanguage: Hindi\\nRuntime: 171 minutes\\nIMDb Rating: 8.4/10\\nPlot Summary: The film follows the story of three engineering students — Rancho, Farhan, and Raju — who challenge the rigid education system in India. Rancho’s unconventional approach to learning inspires his friends to pursue their passions instead of societal expectations. Years later, Farhan and Raju embark on a journey to find Rancho, uncovering life lessons about success, friendship, and following one’s dreams.\\nThemes: Friendship, Education Reform, Self-Discovery, Pressure of Competition.\\nTagline: 'Don’t run behind success; strive for excellence, and success will follow.'\",\n",
       "  'Movie: Dangal\\nYear: 2016\\nGenre: Sports, Drama\\nDirector: Nitesh Tiwari\\nCast: Aamir Khan, Fatima Sana Shaikh, Sanya Malhotra\\nPlot: A former wrestler trains his daughters to become world-class athletes against all odds.',\n",
       "  'Movie: Zindagi Na Milegi Dobara\\nYear: 2011\\nGenre: Adventure, Drama\\nDirector: Zoya Akhtar\\nCast: Hrithik Roshan, Farhan Akhtar, Abhay Deol, Katrina Kaif\\nPlot: Three friends rediscover themselves during a road trip across Spain.',\n",
       "  'Movie: Queen\\nYear: 2014\\nGenre: Comedy, Drama\\nDirector: Vikas Bahl\\nCast: Kangana Ranaut, Lisa Haydon, Rajkummar Rao\\nPlot: A young woman embarks on a solo honeymoon trip to Europe after her fiancé calls off their wedding.',\n",
       "  'Movie: Bajrangi Bhaijaan\\nYear: 2015\\nGenre: Action, Drama\\nDirector: Kabir Khan\\nCast: Salman Khan, Harshaali Malhotra, Kareena Kapoor Khan, Nawazuddin Siddiqui\\nPlot: A kind-hearted man helps a mute Pakistani girl reunite with her family across the border.',\n",
       "  'Movie: Gully Boy\\nYear: 2019\\nGenre: Musical, Drama\\nDirector: Zoya Akhtar\\nCast: Ranveer Singh, Alia Bhatt, Siddhant Chaturvedi\\nPlot: Inspired by Mumbai’s street rappers, a young man rises from the slums to become a rap sensation.',\n",
       "  \"Movie: Barfi!\\nYear: 2012\\nGenre: Romance, Comedy\\nDirector: Anurag Basu\\nCast: Ranbir Kapoor, Priyanka Chopra, Ileana D'Cruz\\nPlot: The story of a deaf-mute boy and his relationships with two women, exploring love beyond words.\",\n",
       "  \"Movie: Chak De! India\\nYear: 2007\\nGenre: Sports, Drama\\nDirector: Shimit Amin\\nCast: Shah Rukh Khan, Vidya Malvade, Sagarika Ghatge\\nPlot: A disgraced hockey player redeems himself by coaching the Indian women's national hockey team.\",\n",
       "  'Movie: Lagaan\\nYear: 2001\\nGenre: Historical, Sports, Drama\\nDirector: Ashutosh Gowariker\\nCast: Aamir Khan, Gracy Singh, Paul Blackthorne\\nPlot: Villagers challenge British officers to a cricket match to avoid paying oppressive taxes.',\n",
       "  'Movie: Kabhi Khushi Kabhie Gham\\nYear: 2001\\nGenre: Family, Drama\\nDirector: Karan Johar\\nCast: Amitabh Bachchan, Shah Rukh Khan, Kajol, Hrithik Roshan, Kareena Kapoor\\nPlot: A wealthy family faces separation and reunion as love and values clash across generations.'],\n",
       " 'uris': None,\n",
       " 'included': ['metadatas', 'documents'],\n",
       " 'data': None,\n",
       " 'metadatas': [{'rating': 8.4,\n",
       "   'country': 'India',\n",
       "   'title': '3 Idiots',\n",
       "   'language': 'Hindi',\n",
       "   'movie_id': 1,\n",
       "   'year': 2009,\n",
       "   'genre': 'Comedy, Drama',\n",
       "   'director': 'Rajkumar Hirani',\n",
       "   'runtime_minutes': 171},\n",
       "  {'year': 2016, 'genre': 'Sports, Drama', 'movie_id': 2, 'title': 'Dangal'},\n",
       "  {'year': 2011,\n",
       "   'movie_id': 3,\n",
       "   'title': 'Zindagi Na Milegi Dobara',\n",
       "   'genre': 'Adventure, Drama'},\n",
       "  {'title': 'Queen', 'year': 2014, 'movie_id': 4, 'genre': 'Comedy, Drama'},\n",
       "  {'title': 'Bajrangi Bhaijaan',\n",
       "   'movie_id': 5,\n",
       "   'year': 2015,\n",
       "   'genre': 'Action, Drama'},\n",
       "  {'genre': 'Musical, Drama',\n",
       "   'movie_id': 6,\n",
       "   'title': 'Gully Boy',\n",
       "   'year': 2019},\n",
       "  {'title': 'Barfi!', 'movie_id': 7, 'year': 2012, 'genre': 'Romance, Comedy'},\n",
       "  {'year': 2007,\n",
       "   'genre': 'Sports, Drama',\n",
       "   'title': 'Chak De! India',\n",
       "   'movie_id': 8},\n",
       "  {'movie_id': 9,\n",
       "   'genre': 'Historical, Sports',\n",
       "   'year': 2001,\n",
       "   'title': 'Lagaan'},\n",
       "  {'title': 'Kabhi Khushi Kabhie Gham',\n",
       "   'genre': 'Family, Drama',\n",
       "   'movie_id': 10,\n",
       "   'year': 2001}]}"
      ]
     },
     "execution_count": 29,
     "metadata": {},
     "output_type": "execute_result"
    }
   ],
   "source": [
    "vector.get()"
   ]
  },
  {
   "cell_type": "code",
   "execution_count": null,
   "id": "19fa3836",
   "metadata": {},
   "outputs": [],
   "source": []
  }
 ],
 "metadata": {
  "kernelspec": {
   "display_name": "venv",
   "language": "python",
   "name": "python3"
  },
  "language_info": {
   "codemirror_mode": {
    "name": "ipython",
    "version": 3
   },
   "file_extension": ".py",
   "mimetype": "text/x-python",
   "name": "python",
   "nbconvert_exporter": "python",
   "pygments_lexer": "ipython3",
   "version": "3.10.11"
  }
 },
 "nbformat": 4,
 "nbformat_minor": 5
}
