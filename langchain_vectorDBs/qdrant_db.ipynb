{
 "cells": [
  {
   "cell_type": "markdown",
   "id": "4d1281b3",
   "metadata": {},
   "source": [
    "Qdrant DB basic CRUD operations"
   ]
  },
  {
   "cell_type": "code",
   "execution_count": 21,
   "id": "b39b61fd",
   "metadata": {},
   "outputs": [],
   "source": [
    "from langchain_huggingface import HuggingFaceEmbeddings\n",
    "from langchain.vectorstores import Qdrant\n",
    "from qdrant_client import QdrantClient"
   ]
  },
  {
   "cell_type": "code",
   "execution_count": 22,
   "id": "f5dabd11",
   "metadata": {},
   "outputs": [],
   "source": [
    "from langchain.schema import Document\n",
    "\n",
    "documents = [\n",
    "    Document(\n",
    "        page_content=\"Movie: 3 Idiots\\nYear: 2009\\nGenre: Comedy, Drama\\nDirector: Rajkumar Hirani\\nCast: Aamir Khan, R. Madhavan, Sharman Joshi, Kareena Kapoor\\nPlot: Three engineering students navigate pressure, friendship, and the education system in India.\",\n",
    "        metadata={\"movie_id\": 1, \"title\": \"3 Idiots\", \"year\": 2009, \"genre\": \"Comedy, Drama\"}\n",
    "    ),\n",
    "    Document(\n",
    "        page_content=\"Movie: Dangal\\nYear: 2016\\nGenre: Sports, Drama\\nDirector: Nitesh Tiwari\\nCast: Aamir Khan, Fatima Sana Shaikh, Sanya Malhotra\\nPlot: A former wrestler trains his daughters to become world-class athletes against all odds.\",\n",
    "        metadata={\"movie_id\": 2, \"title\": \"Dangal\", \"year\": 2016, \"genre\": \"Sports, Drama\"}\n",
    "    ),\n",
    "    Document(\n",
    "        page_content=\"Movie: Zindagi Na Milegi Dobara\\nYear: 2011\\nGenre: Adventure, Drama\\nDirector: Zoya Akhtar\\nCast: Hrithik Roshan, Farhan Akhtar, Abhay Deol, Katrina Kaif\\nPlot: Three friends rediscover themselves during a road trip across Spain.\",\n",
    "        metadata={\"movie_id\": 3, \"title\": \"Zindagi Na Milegi Dobara\", \"year\": 2011, \"genre\": \"Adventure, Drama\"}\n",
    "    ),\n",
    "    Document(\n",
    "        page_content=\"Movie: Queen\\nYear: 2014\\nGenre: Comedy, Drama\\nDirector: Vikas Bahl\\nCast: Kangana Ranaut, Lisa Haydon, Rajkummar Rao\\nPlot: A young woman embarks on a solo honeymoon trip to Europe after her fiancé calls off their wedding.\",\n",
    "        metadata={\"movie_id\": 4, \"title\": \"Queen\", \"year\": 2014, \"genre\": \"Comedy, Drama\"}\n",
    "    ),\n",
    "    Document(\n",
    "        page_content=\"Movie: Bajrangi Bhaijaan\\nYear: 2015\\nGenre: Action, Drama\\nDirector: Kabir Khan\\nCast: Salman Khan, Harshaali Malhotra, Kareena Kapoor Khan, Nawazuddin Siddiqui\\nPlot: A kind-hearted man helps a mute Pakistani girl reunite with her family across the border.\",\n",
    "        metadata={\"movie_id\": 5, \"title\": \"Bajrangi Bhaijaan\", \"year\": 2015, \"genre\": \"Action, Drama\"}\n",
    "    ),\n",
    "    Document(\n",
    "        page_content=\"Movie: Gully Boy\\nYear: 2019\\nGenre: Musical, Drama\\nDirector: Zoya Akhtar\\nCast: Ranveer Singh, Alia Bhatt, Siddhant Chaturvedi\\nPlot: Inspired by Mumbai’s street rappers, a young man rises from the slums to become a rap sensation.\",\n",
    "        metadata={\"movie_id\": 6, \"title\": \"Gully Boy\", \"year\": 2019, \"genre\": \"Musical, Drama\"}\n",
    "    ),\n",
    "    Document(\n",
    "        page_content=\"Movie: Barfi!\\nYear: 2012\\nGenre: Romance, Comedy\\nDirector: Anurag Basu\\nCast: Ranbir Kapoor, Priyanka Chopra, Ileana D'Cruz\\nPlot: The story of a deaf-mute boy and his relationships with two women, exploring love beyond words.\",\n",
    "        metadata={\"movie_id\": 7, \"title\": \"Barfi!\", \"year\": 2012, \"genre\": \"Romance, Comedy\"}\n",
    "    ),\n",
    "    Document(\n",
    "        page_content=\"Movie: Chak De! India\\nYear: 2007\\nGenre: Sports, Drama\\nDirector: Shimit Amin\\nCast: Shah Rukh Khan, Vidya Malvade, Sagarika Ghatge\\nPlot: A disgraced hockey player redeems himself by coaching the Indian women's national hockey team.\",\n",
    "        metadata={\"movie_id\": 8, \"title\": \"Chak De! India\", \"year\": 2007, \"genre\": \"Sports, Drama\"}\n",
    "    ),\n",
    "    Document(\n",
    "        page_content=\"Movie: Lagaan\\nYear: 2001\\nGenre: Historical, Sports, Drama\\nDirector: Ashutosh Gowariker\\nCast: Aamir Khan, Gracy Singh, Paul Blackthorne\\nPlot: Villagers challenge British officers to a cricket match to avoid paying oppressive taxes.\",\n",
    "        metadata={\"movie_id\": 9, \"title\": \"Lagaan\", \"year\": 2001, \"genre\": \"Historical, Sports\"}\n",
    "    ),\n",
    "    Document(\n",
    "        page_content=\"Movie: Kabhi Khushi Kabhie Gham\\nYear: 2001\\nGenre: Family, Drama\\nDirector: Karan Johar\\nCast: Amitabh Bachchan, Shah Rukh Khan, Kajol, Hrithik Roshan, Kareena Kapoor\\nPlot: A wealthy family faces separation and reunion as love and values clash across generations.\",\n",
    "        metadata={\"movie_id\": 10, \"title\": \"Kabhi Khushi Kabhie Gham\", \"year\": 2001, \"genre\": \"Family, Drama\"}\n",
    "    )\n",
    "]\n"
   ]
  },
  {
   "cell_type": "code",
   "execution_count": 23,
   "id": "cc81ab76",
   "metadata": {},
   "outputs": [],
   "source": [
    "embedding_model = HuggingFaceEmbeddings(model_name = \"sentence-transformers/all-MiniLM-L6-v2\")"
   ]
  },
  {
   "cell_type": "code",
   "execution_count": 24,
   "id": "6fe84ff4",
   "metadata": {},
   "outputs": [],
   "source": [
    "#  loading the api key \n",
    "from dotenv import load_dotenv\n",
    "import os\n",
    "\n",
    "load_dotenv()\n",
    "api_key = os.getenv(\"QDRANT_API_KEY\")"
   ]
  },
  {
   "cell_type": "code",
   "execution_count": null,
   "id": "632905e4",
   "metadata": {},
   "outputs": [],
   "source": [
    "# creating qrant client\n",
    "\n",
    "client = QdrantClient(\n",
    "    url= \"https://08ac7e5c-d23a-477d-ad72-b32ba61f2fca.europe-west3-0.gcp.cloud.qdrant.io\",\n",
    "    api_key=api_key\n",
    ")"
   ]
  },
  {
   "cell_type": "code",
   "execution_count": 30,
   "id": "145fa52a",
   "metadata": {},
   "outputs": [],
   "source": [
    "vector = Qdrant.from_documents(\n",
    "    documents=documents,\n",
    "    embedding=embedding_model,\n",
    "    collection_name=\"sample_movies_data\",\n",
    "    url = \"https://08ac7e5c-d23a-477d-ad72-b32ba61f2fca.europe-west3-0.gcp.cloud.qdrant.io\",\n",
    "    api_key = api_key\n",
    ")"
   ]
  },
  {
   "cell_type": "code",
   "execution_count": 33,
   "id": "070eca46",
   "metadata": {},
   "outputs": [
    {
     "data": {
      "text/plain": [
       "[(Document(metadata={'movie_id': 5, 'title': 'Bajrangi Bhaijaan', 'year': 2015, 'genre': 'Action, Drama', '_id': 'cdbdc775-c166-42dc-992c-0fbc40e01526', '_collection_name': 'sample_movies_data'}, page_content='Movie: Bajrangi Bhaijaan\\nYear: 2015\\nGenre: Action, Drama\\nDirector: Kabir Khan\\nCast: Salman Khan, Harshaali Malhotra, Kareena Kapoor Khan, Nawazuddin Siddiqui\\nPlot: A kind-hearted man helps a mute Pakistani girl reunite with her family across the border.'),\n",
       "  0.71433294),\n",
       " (Document(metadata={'movie_id': 2, 'title': 'Dangal', 'year': 2016, 'genre': 'Sports, Drama', '_id': '5b5b44fb-b51b-4eca-892f-65ee3175ed62', '_collection_name': 'sample_movies_data'}, page_content='Movie: Dangal\\nYear: 2016\\nGenre: Sports, Drama\\nDirector: Nitesh Tiwari\\nCast: Aamir Khan, Fatima Sana Shaikh, Sanya Malhotra\\nPlot: A former wrestler trains his daughters to become world-class athletes against all odds.'),\n",
       "  0.48959094)]"
      ]
     },
     "execution_count": 33,
     "metadata": {},
     "output_type": "execute_result"
    }
   ],
   "source": [
    "Qdrant.similarity_search_with_score(\n",
    "    self=vector,\n",
    "    query=\"which movie talks about a pakistani girl.\",\n",
    "    k = 2\n",
    ")"
   ]
  },
  {
   "cell_type": "code",
   "execution_count": null,
   "id": "3acc11c1",
   "metadata": {},
   "outputs": [],
   "source": []
  },
  {
   "cell_type": "code",
   "execution_count": null,
   "id": "a2e04677",
   "metadata": {},
   "outputs": [],
   "source": []
  }
 ],
 "metadata": {
  "kernelspec": {
   "display_name": "venv",
   "language": "python",
   "name": "python3"
  },
  "language_info": {
   "codemirror_mode": {
    "name": "ipython",
    "version": 3
   },
   "file_extension": ".py",
   "mimetype": "text/x-python",
   "name": "python",
   "nbconvert_exporter": "python",
   "pygments_lexer": "ipython3",
   "version": "3.10.11"
  }
 },
 "nbformat": 4,
 "nbformat_minor": 5
}
