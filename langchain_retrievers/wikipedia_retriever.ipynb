{
 "cells": [
  {
   "cell_type": "markdown",
   "id": "fea688a7",
   "metadata": {},
   "source": [
    "Retrieving the content from wikipedia"
   ]
  },
  {
   "cell_type": "code",
   "execution_count": 1,
   "id": "627f1d0b",
   "metadata": {},
   "outputs": [],
   "source": [
    "from langchain_community.retrievers import WikipediaRetriever"
   ]
  },
  {
   "cell_type": "code",
   "execution_count": 21,
   "id": "d067d39c",
   "metadata": {},
   "outputs": [],
   "source": [
    "retriever = WikipediaRetriever(top_k_results=1, lang=\"en\")"
   ]
  },
  {
   "cell_type": "code",
   "execution_count": 22,
   "id": "c66146fd",
   "metadata": {},
   "outputs": [],
   "source": [
    "query = \"Theories about gravity\""
   ]
  },
  {
   "cell_type": "code",
   "execution_count": 23,
   "id": "a5ce67bb",
   "metadata": {},
   "outputs": [],
   "source": [
    "docs = retriever.invoke(input=query)"
   ]
  },
  {
   "cell_type": "code",
   "execution_count": 24,
   "id": "2a4da472",
   "metadata": {},
   "outputs": [
    {
     "name": "stdout",
     "output_type": "stream",
     "text": [
      "\n",
      "Result: 1\n",
      "\n",
      "content:\n",
      " Loop quantum gravity (LQG) is a theory of quantum gravity that incorporates matter of the Standard Model into the framework established for the intrinsic quantum gravity case. It is an attempt to develop a quantum theory of gravity based directly on Albert Einstein's geometric formulation rather than the treatment of gravity as a mysterious mechanism (force). As a theory, LQG postulates that the structure of space and time is composed of finite loops woven into an extremely fine fabric or network. These networks of loops are called spin networks. The evolution of a spin network, or spin foam, has a scale on the order of a Planck length, approximately 10−35 meters, and smaller scales are meaningless. Consequently, not just matter, but space itself, prefers an atomic structure.\n",
      "The areas of research, which involve about 30 research groups worldwide, share the basic physical assumptions and the mathematical description of quantum space. Research has evolved in two directions: the more traditional canonical loop quantum gravity, and the newer covariant loop quantum gravity, called spin foam theory. The most well-developed theory that has been advanced as a direct result of loop quantum gravity is called loop quantum cosmology (LQC). LQC advances the study of the early universe, incorporating the concept of the Big Bang into the broader theory of the Big Bounce, which envisions the Big Bang as the beginning of a period of expansion, that follows a period of contraction, which has been described as the Big Crunch.\n",
      "\n",
      "\n",
      "== History ==\n",
      "\n",
      "In 1986, Abhay Ashtekar reformulated Einstein's general relativity in a language closer to that of the rest of fundamental physics, specifically Yang–Mills theory. Shortly after, Ted Jacobson and Lee Smolin realized that the formal equation of quantum gravity, called the Wheeler–DeWitt equation, admitted solutions labelled by loops when rewritten in the new Ashtekar variables. Carlo Rovelli and Smolin defined a nonperturbative and background-independent quantum theory of gravity in terms of these loop solutions. Jorge Pullin and Jerzy Lewandowski understood that the intersections of the loops are essential for the consistency of the theory, and the theory should be formulated in terms of intersecting loops, or graphs.\n",
      "In 1994, Rovelli and Smolin showed that the quantum operators of the theory associated to area and volume have a discrete spectrum. That is, geometry is quantized. This result defines an explicit basis of states of quantum geometry, which turned out to be labelled by Roger Penrose's spin networks, which are graphs labelled by spins.\n",
      "The canonical version of the dynamics was established by Thomas Thiemann, who defined an anomaly-free Hamiltonian operator and showed the existence of a mathematically consistent background-independent theory. The covariant, or \"spin foam\", version of the dynamics was developed jointly over several decades by research groups in France, Canada, UK, Poland, and Germany. It was completed in 2008, leading to the definition of a family of transition amplitudes, which in the classical limit can be shown to be related to a family of truncations of general relativity. The finiteness of these amplitudes was proven in 2011. It requires the existence of a positive cosmological constant, which is consistent with observed acceleration in the expansion of the Universe.\n",
      "\n",
      "\n",
      "== Background independence ==\n",
      "LQG is formally background independent, meaning the equations of LQG are not embedded in, or dependent on, space and time (except for its invariant topology). Instead, they are expected to give rise to space and time at distances which are 10 times the Planck length. The issue of background independence in LQG still has some unresolved subtleties. For example, some derivations require a fixed choice of the topology, while any consistent quantum theory of gravity should include topology change as a dynamical process.\n",
      "Spacetime as a \"container\" over which physics takes place has no o\n"
     ]
    }
   ],
   "source": [
    "for i, doc in enumerate(docs):\n",
    "    print(\"\\nResult:\",(i+1))\n",
    "    print(\"\\ncontent:\\n\", doc.page_content)"
   ]
  },
  {
   "cell_type": "code",
   "execution_count": null,
   "id": "2d1bcd8b",
   "metadata": {},
   "outputs": [],
   "source": []
  }
 ],
 "metadata": {
  "kernelspec": {
   "display_name": "venv",
   "language": "python",
   "name": "python3"
  },
  "language_info": {
   "codemirror_mode": {
    "name": "ipython",
    "version": 3
   },
   "file_extension": ".py",
   "mimetype": "text/x-python",
   "name": "python",
   "nbconvert_exporter": "python",
   "pygments_lexer": "ipython3",
   "version": "3.10.11"
  }
 },
 "nbformat": 4,
 "nbformat_minor": 5
}
