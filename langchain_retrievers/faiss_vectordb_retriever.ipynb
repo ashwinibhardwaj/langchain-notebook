{
 "cells": [
  {
   "cell_type": "markdown",
   "id": "eb217381",
   "metadata": {},
   "source": [
    "This notebook shows the use of simple similarity based retrievers and multiquery retriever with their output diffrernces."
   ]
  },
  {
   "cell_type": "code",
   "execution_count": 58,
   "id": "e4b700e4",
   "metadata": {},
   "outputs": [],
   "source": [
    "from langchain.vectorstores import FAISS\n",
    "from langchain.retrievers import MultiQueryRetriever\n",
    "from langchain_huggingface import HuggingFaceEmbeddings\n",
    "from langchain_groq import ChatGroq"
   ]
  },
  {
   "cell_type": "code",
   "execution_count": 47,
   "id": "0fd4cbe0",
   "metadata": {},
   "outputs": [],
   "source": [
    "from langchain.schema import Document\n",
    "\n",
    "documents = [\n",
    "    Document(page_content=\"Eating a balanced diet with fruits, vegetables, and whole grains improves overall health and reduces risk of chronic diseases.\", metadata={\"topic\": \"nutrition\"}),\n",
    "    Document(page_content=\"Regular physical activity, such as walking, cycling, or swimming, can lower blood pressure and improve cardiovascular health.\", metadata={\"topic\": \"exercise\"}),\n",
    "    Document(page_content=\"Adequate sleep of 7-9 hours per night is essential for mental health, immune function, and cognitive performance.\", metadata={\"topic\": \"sleep\"}),\n",
    "    Document(page_content=\"Stress management techniques like meditation, yoga, or deep breathing exercises can reduce anxiety and promote emotional well-being.\", metadata={\"topic\": \"mental health\"}),\n",
    "    Document(page_content=\"Vaccinations are crucial for preventing infectious diseases such as influenza, measles, and COVID-19.\", metadata={\"topic\": \"immunization\"}),\n",
    "    Document(page_content=\"Drinking sufficient water daily helps maintain hydration, supports kidney function, and improves digestion.\", metadata={\"topic\": \"hydration\"}),\n",
    "    Document(page_content=\"Avoiding excessive sugar, salt, and processed foods reduces the risk of obesity, diabetes, and heart disease.\", metadata={\"topic\": \"diet\"}),\n",
    "    Document(page_content=\"Regular health screenings, such as blood pressure and cholesterol checks, can help detect diseases early and improve outcomes.\", metadata={\"topic\": \"preventive care\"}),\n",
    "    Document(page_content=\"Smoking cessation and limiting alcohol consumption significantly decrease the risk of lung disease, liver disease, and cancer.\", metadata={\"topic\": \"lifestyle\"}),\n",
    "    Document(page_content=\"Mental stimulation through learning, reading, and problem-solving exercises may help maintain cognitive function as you age.\", metadata={\"topic\": \"brain health\"}),\n",
    "]\n"
   ]
  },
  {
   "cell_type": "code",
   "execution_count": 48,
   "id": "a60db972",
   "metadata": {},
   "outputs": [],
   "source": [
    "embedding_model = HuggingFaceEmbeddings(model=\"sentence-transformers/all-MiniLM-L6-v2\")"
   ]
  },
  {
   "cell_type": "code",
   "execution_count": 49,
   "id": "54f57baa",
   "metadata": {},
   "outputs": [],
   "source": [
    "vector = FAISS.from_documents(\n",
    "    documents= documents,\n",
    "    embedding = embedding_model,\n",
    "    )"
   ]
  },
  {
   "cell_type": "markdown",
   "id": "b5a5931e",
   "metadata": {},
   "source": [
    "Similarity retriever"
   ]
  },
  {
   "cell_type": "code",
   "execution_count": 56,
   "id": "979392f2",
   "metadata": {},
   "outputs": [],
   "source": [
    "similarity_retriever = vector.as_retriever(search_type = \"similarity\", search_kwargs={\"k\":5})"
   ]
  },
  {
   "cell_type": "markdown",
   "id": "89d0ecd0",
   "metadata": {},
   "source": [
    "MultiQuery Retriever"
   ]
  },
  {
   "cell_type": "code",
   "execution_count": 51,
   "id": "5c0ddfbc",
   "metadata": {},
   "outputs": [],
   "source": [
    "from dotenv import load_dotenv\n",
    "import os \n",
    "load_dotenv()\n",
    "api_key = os.getenv(\"GROQ_API_KEY\")"
   ]
  },
  {
   "cell_type": "code",
   "execution_count": 52,
   "id": "e247fcff",
   "metadata": {},
   "outputs": [],
   "source": [
    "multiquery_retriever = MultiQueryRetriever.from_llm(\n",
    "    retriever = vector.as_retriever(kwargs={\"k\":5}),\n",
    "    llm = ChatGroq(model=\"openai/gpt-oss-120b\", api_key=api_key)\n",
    ")"
   ]
  },
  {
   "cell_type": "code",
   "execution_count": 53,
   "id": "197a162a",
   "metadata": {},
   "outputs": [],
   "source": [
    "query = \"What are best prectices for mentle health\""
   ]
  },
  {
   "cell_type": "code",
   "execution_count": 54,
   "id": "56aeb1b3",
   "metadata": {},
   "outputs": [],
   "source": [
    "similarity_results = similarity_retriever.invoke(query)\n",
    "multiquery_results = multiquery_retriever.invoke(query)"
   ]
  },
  {
   "cell_type": "code",
   "execution_count": 57,
   "id": "a31e9fe3",
   "metadata": {},
   "outputs": [
    {
     "name": "stdout",
     "output_type": "stream",
     "text": [
      "\n",
      "Similarity Search Results:\n",
      "\n",
      "Result  1 \n",
      "\n",
      "Eating a balanced diet with fruits, vegetables, and whole grains improves overall health and reduces risk of chronic diseases.\n",
      "\n",
      "Result  2 \n",
      "\n",
      "Regular health screenings, such as blood pressure and cholesterol checks, can help detect diseases early and improve outcomes.\n",
      "\n",
      "Result  3 \n",
      "\n",
      "Regular physical activity, such as walking, cycling, or swimming, can lower blood pressure and improve cardiovascular health.\n",
      "\n",
      "Result  4 \n",
      "\n",
      "Avoiding excessive sugar, salt, and processed foods reduces the risk of obesity, diabetes, and heart disease.\n",
      "\n",
      "Result  5 \n",
      "\n",
      "Stress management techniques like meditation, yoga, or deep breathing exercises can reduce anxiety and promote emotional well-being.\n",
      "\n",
      " * * * * * * * * * * * * * * * * * * * * * * * * * * * * * * * * * * * * * * * * * * * * * * * * * * * * * * * * * * * * * * * * * * * * * * * * * * * * * * * * * * * * * * * * * * * * * * * * * * * * \n",
      "\n",
      "MultiQuery Search Results:\n",
      "\n",
      "Result  1 \n",
      "\n",
      "Stress management techniques like meditation, yoga, or deep breathing exercises can reduce anxiety and promote emotional well-being.\n",
      "\n",
      "Result  2 \n",
      "\n",
      "Adequate sleep of 7-9 hours per night is essential for mental health, immune function, and cognitive performance.\n",
      "\n",
      "Result  3 \n",
      "\n",
      "Mental stimulation through learning, reading, and problem-solving exercises may help maintain cognitive function as you age.\n",
      "\n",
      "Result  4 \n",
      "\n",
      "Eating a balanced diet with fruits, vegetables, and whole grains improves overall health and reduces risk of chronic diseases.\n",
      "\n",
      "Result  5 \n",
      "\n",
      "Regular health screenings, such as blood pressure and cholesterol checks, can help detect diseases early and improve outcomes.\n"
     ]
    }
   ],
   "source": [
    "print(\"\\nSimilarity Search Results:\")\n",
    "for i, result in enumerate(similarity_results):\n",
    "    print(\"\\nResult \",i+1, \"\\n\")\n",
    "    print(result.page_content)\n",
    "\n",
    "print(\"\\n\",100*\"* \")\n",
    "\n",
    "\n",
    "print(\"\\nMultiQuery Search Results:\")\n",
    "for i, result in enumerate(multiquery_results):\n",
    "    print(\"\\nResult \",i+1, \"\\n\")\n",
    "    print(result.page_content)\n"
   ]
  }
 ],
 "metadata": {
  "kernelspec": {
   "display_name": "venv",
   "language": "python",
   "name": "python3"
  },
  "language_info": {
   "codemirror_mode": {
    "name": "ipython",
    "version": 3
   },
   "file_extension": ".py",
   "mimetype": "text/x-python",
   "name": "python",
   "nbconvert_exporter": "python",
   "pygments_lexer": "ipython3",
   "version": "3.10.11"
  }
 },
 "nbformat": 4,
 "nbformat_minor": 5
}
